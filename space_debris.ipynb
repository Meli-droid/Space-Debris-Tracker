{
 "cells": [
  {
   "cell_type": "code",
   "execution_count": 1,
   "metadata": {},
   "outputs": [],
   "source": [
    "import requests\n",
    "import pandas as pd\n",
    "from io import StringIO\n",
    "from sqlalchemy import create_engine\n",
    "import psycopg2\n",
    "import os\n",
    "import json\n",
    "from flask import Flask, jsonify\n",
    "\n"
   ]
  },
  {
   "cell_type": "code",
   "execution_count": 2,
   "metadata": {},
   "outputs": [
    {
     "name": "stdout",
     "output_type": "stream",
     "text": [
      "Connected to PostgreSQL successfully!\n"
     ]
    }
   ],
   "source": [
    "# Database connection parameters\n",
    "db_params = {\n",
    "    \"dbname\": \"space_debris_tracker_db\",\n",
    "    \"user\": \"postgres\",\n",
    "    \"password\": \"your_new_password\",\n",
    "    \"host\": \"localhost\", \n",
    "    \"port\": \"5432\"\n",
    "}\n",
    "\n",
    "# Establish connection\n",
    "try:\n",
    "    conn = psycopg2.connect(**db_params)\n",
    "    cursor = conn.cursor()\n",
    "    print(\"Connected to PostgreSQL successfully!\")\n",
    "except Exception as e:\n",
    "    print(\"Error connecting to PostgreSQL:\", e)"
   ]
  },
  {
   "cell_type": "code",
   "execution_count": 3,
   "metadata": {},
   "outputs": [
    {
     "name": "stdout",
     "output_type": "stream",
     "text": [
      "Login Response Code: 200\n",
      "Login Response Text: \"\"\n",
      "Login successful.\n",
      "Data retrieved successfully.\n",
      "{\n",
      "    \"INTLDES\": \"1957-001A\",\n",
      "    \"NORAD_CAT_ID\": \"1\",\n",
      "    \"OBJECT_TYPE\": \"ROCKET BODY\",\n",
      "    \"SATNAME\": \"SL-1 R/B\",\n",
      "    \"COUNTRY\": \"CIS\",\n",
      "    \"LAUNCH\": \"1957-10-04\",\n",
      "    \"SITE\": \"TTMTR\",\n",
      "    \"DECAY\": \"1957-12-01\",\n",
      "    \"PERIOD\": \"96.19\",\n",
      "    \"INCLINATION\": \"65.10\",\n",
      "    \"APOGEE\": \"938\",\n",
      "    \"PERIGEE\": \"214\",\n",
      "    \"COMMENT\": null,\n",
      "    \"COMMENTCODE\": \"4\",\n",
      "    \"RCSVALUE\": \"0\",\n",
      "    \"RCS_SIZE\": \"LARGE\",\n",
      "    \"FILE\": \"1\",\n",
      "    \"LAUNCH_YEAR\": \"1957\",\n",
      "    \"LAUNCH_NUM\": \"1\",\n",
      "    \"LAUNCH_PIECE\": \"A\",\n",
      "    \"CURRENT\": \"Y\",\n",
      "    \"OBJECT_NAME\": \"SL-1 R/B\",\n",
      "    \"OBJECT_ID\": \"1957-001A\",\n",
      "    \"OBJECT_NUMBER\": \"1\"\n",
      "}\n"
     ]
    }
   ],
   "source": [
    "import requests\n",
    "import json\n",
    "\n",
    "# Space-Track login URL and API endpoint\n",
    "login_url = \"https://www.space-track.org/ajaxauth/login\"\n",
    "debris_api = \"https://www.space-track.org/basicspacedata/query/class/satcat/limit/100/format/json\"\n",
    "\n",
    "# Space-Track credentials\n",
    "USERNAME = 'melicontreras32@gmail.com'\n",
    "PASSWORD = 'MelicarrGrandma!'\n",
    "\n",
    "# Create a session\n",
    "session = requests.Session()\n",
    "\n",
    "\n",
    "# Define headers\n",
    "headers = {\n",
    "    \"Content-Type\": \"application/x-www-form-urlencoded\",\n",
    "    \"User-Agent\": \"Mozilla/5.0\"\n",
    "}\n",
    "\n",
    "# Define login payload\n",
    "login_payload = {\n",
    "    \"identity\": USERNAME,\n",
    "    \"password\": PASSWORD\n",
    "}\n",
    "\n",
    "# Perform login request\n",
    "login_response = session.post(login_url, data=login_payload, headers=headers)\n",
    "\n",
    "# Debugging: Print login response\n",
    "print(f\"Login Response Code: {login_response.status_code}\")\n",
    "print(f\"Login Response Text: {login_response.text}\")\n",
    "\n",
    "# Check if login was successful\n",
    "if login_response.status_code == 200 and login_response.text.strip():\n",
    "    print(\"Login successful.\")\n",
    "\n",
    "    # Fetch data from the API using the session (with stored cookies)\n",
    "    api_response = session.get(debris_api)\n",
    "\n",
    "    if api_response.status_code == 200:\n",
    "        # Parse JSON data\n",
    "        data = api_response.json()\n",
    "        print(\"Data retrieved successfully.\")\n",
    "        \n",
    "        # Print the first item in the data (for debugging)\n",
    "        print(json.dumps(data[0], indent=4))\n",
    "    else:\n",
    "        print(f\"Error fetching data: {api_response.status_code}, {api_response.text}\")\n",
    "else:\n",
    "    print(f\"Login failed: {login_response.status_code}, {login_response.text}\")"
   ]
  },
  {
   "cell_type": "code",
   "execution_count": 4,
   "metadata": {},
   "outputs": [],
   "source": [
    "# # Space-Track API credentials\n",
    "# USERNAME = 'melicontreras32@gmail.com'\n",
    "# PASSWORD = 'MelicarrGrandma!'\n",
    "# # Space-Track login URL and API endpoint\n",
    "# login_url = \"https://www.space-track.org/ajaxauth/login\"\n",
    "# # debris_api = \"https://www.space-track.org/basicspacedata/query/class/gp/format/json\"\n",
    "# debris_api = \"https://www.space-track.org/basicspacedata/query/class/satcat/limit/100/format/json\"\n",
    "\n",
    "# # Create a session\n",
    "# session = requests.Session()\n",
    "\n",
    "# # Log in to Space-Track and start a session\n",
    "# login_payload = {'identity': USERNAME, 'password': PASSWORD}\n",
    "# login_response = session.post(login_url, data=login_payload)\n",
    "\n",
    "# # Check if login was successful\n",
    "# if login_response.status_code == 200:\n",
    "#     print(\"Login successful.\")\n",
    "#     # Fetch data from the API endpoint\n",
    "#     api_response = session.get(debris_api)\n",
    "#     if api_response.status_code == 200:\n",
    "#         # Parse the JSON data\n",
    "#         data = api_response.json()\n",
    "#         print(\"Data retrieved successfully.\")\n",
    "#         # Example: Print first item in the data\n",
    "#         print(json.dumps(data[0], indent=4))\n",
    "#     else:\n",
    "#         print(f\"Error fetching data: {api_response.status_code}, {api_response.text}\")\n",
    "# else:\n",
    "#     print(f\"Login failed: {login_response.status_code}\")\n",
    "\n"
   ]
  },
  {
   "cell_type": "code",
   "execution_count": 5,
   "metadata": {},
   "outputs": [
    {
     "name": "stdout",
     "output_type": "stream",
     "text": [
      "Satellite data saved to satellite_data.csv\n"
     ]
    }
   ],
   "source": [
    "query_url = f\"{debris_api}/class/satcat/format/csv\"\n",
    "\n",
    "response = session.get(query_url)\n",
    "    \n",
    "if response.status_code == 200:\n",
    "    df = pd.read_csv(StringIO(response.text))\n",
    "    df.to_csv(\"satellite_data.csv\", index=False)  \n",
    "    print(\"Satellite data saved to satellite_data.csv\")\n",
    "\n",
    "else:\n",
    "    print(f\"Error fetching satellite data: {response.status_code}, {response.text}\")\n"
   ]
  },
  {
   "cell_type": "code",
   "execution_count": 6,
   "metadata": {},
   "outputs": [
    {
     "name": "stdout",
     "output_type": "stream",
     "text": [
      "Debris data saved to debris_data.csv\n",
      "     INTLDES  NORAD_CAT_ID OBJECT_TYPE            SATNAME COUNTRY      LAUNCH  \\\n",
      "0  1960-003C            33      DEBRIS  THOR ABLESTAR DEB      US  1960-04-13   \n",
      "1  1960-005D            37      DEBRIS      SPUTNIK 4 DEB     CIS  1960-05-15   \n",
      "2  1960-005E            38      DEBRIS      SPUTNIK 4 DEB     CIS  1960-05-15   \n",
      "3  1960-005F            39      DEBRIS      SPUTNIK 4 DEB     CIS  1960-05-15   \n",
      "4  1960-005G            40      DEBRIS      SPUTNIK 4 DEB     CIS  1960-05-15   \n",
      "\n",
      "    SITE       DECAY  PERIOD  INCLINATION  ...  RCSVALUE  RCS_SIZE FILE  \\\n",
      "0  AFETR  1960-07-17   93.59        51.29  ...         0       NaN    1   \n",
      "1  TTMTR  1961-06-30   92.92        64.89  ...         0       NaN    1   \n",
      "2  TTMTR  1960-08-20   90.63        64.89  ...         0       NaN    1   \n",
      "3  TTMTR  1960-09-24   90.99        64.89  ...         0       NaN    1   \n",
      "4  TTMTR  1960-09-24   92.13        64.89  ...         0       NaN    1   \n",
      "\n",
      "   LAUNCH_YEAR  LAUNCH_NUM LAUNCH_PIECE  CURRENT        OBJECT_NAME  \\\n",
      "0         1960           3            C        Y  THOR ABLESTAR DEB   \n",
      "1         1960           5            D        Y      SPUTNIK 4 DEB   \n",
      "2         1960           5            E        Y      SPUTNIK 4 DEB   \n",
      "3         1960           5            F        Y      SPUTNIK 4 DEB   \n",
      "4         1960           5            G        Y      SPUTNIK 4 DEB   \n",
      "\n",
      "   OBJECT_ID OBJECT_NUMBER  \n",
      "0  1960-003C            33  \n",
      "1  1960-005D            37  \n",
      "2  1960-005E            38  \n",
      "3  1960-005F            39  \n",
      "4  1960-005G            40  \n",
      "\n",
      "[5 rows x 24 columns]\n"
     ]
    }
   ],
   "source": [
    "# Function to fetch debris data\n",
    "def fetch_debris_data():\n",
    "    query_url = f\"{debris_api}/class/satcat/OBJECT_TYPE/DEBRIS/format/csv\"\n",
    "    response = session.get(query_url)\n",
    "    \n",
    "    if response.status_code == 200:\n",
    "        df = pd.read_csv(StringIO(response.text))\n",
    "        df.to_csv(\"debris_data.csv\", index=False) \n",
    "        print(\"Debris data saved to debris_data.csv\")\n",
    "        return df\n",
    "    else:\n",
    "        print(f\"Error fetching debris data: {response.status_code}, {response.text}\")\n",
    "        return pd.DataFrame()\n",
    "    \n",
    "    # Fetch space debris data and save it\n",
    "debris_data = fetch_debris_data()\n",
    "\n",
    "# Check if data was fetched successfully\n",
    "if not debris_data.empty:\n",
    "    print(debris_data.head())  \n",
    "else:\n",
    "    print(\"No debris data received.\")"
   ]
  },
  {
   "cell_type": "code",
   "execution_count": 7,
   "metadata": {},
   "outputs": [
    {
     "data": {
      "text/plain": [
       "100"
      ]
     },
     "execution_count": 7,
     "metadata": {},
     "output_type": "execute_result"
    }
   ],
   "source": [
    "satellite_data = pd.read_csv(\"satellite_data.csv\")\n",
    "debris_data = pd.read_csv(\"debris_data.csv\")    \n",
    "\n",
    "engine=create_engine(f\"postgresql://{db_params['user']}:{db_params['password']}@{db_params['host']}/{db_params['dbname']}\")\n",
    "\n",
    "satellite_data.to_sql(\"satellite_data\", engine, if_exists=\"replace\", index=False)\n",
    "debris_data.to_sql(\"debris_data\", engine, if_exists=\"replace\", index=False)"
   ]
  },
  {
   "cell_type": "code",
   "execution_count": 8,
   "metadata": {},
   "outputs": [],
   "source": [
    "app = Flask(__name__)\n",
    "@app.route(\"/get_debris\", methods=[\"GET\"])\n",
    "def get_debris():\n",
    "    session = requests.Session()\n",
    "\n",
    "    # Log in to Space-Track\n",
    "    login_payload = {\"identity\": USERNAME, \"password\": PASSWORD}\n",
    "    login_response = session.post(login_url, data=login_payload)\n",
    "\n",
    "    if login_response.status_code == 200 and login_response.text.strip():\n",
    "        print(\"Login successful.\")\n",
    "\n",
    "        # Fetch space debris data\n",
    "        response = session.get(data_url)\n",
    "        if response.status_code == 200:\n",
    "            debris_data = response.json()\n",
    "            print(\"Fetched data:\", json.dumps(debris_data, indent=4))  # Log the raw data\n",
    "            return jsonify(debris_data)  # Return JSON to frontend\n",
    "        else:\n",
    "            return jsonify({\"error\": f\"Failed to fetch data: {response.status_code}\"}), 500\n",
    "    else:\n",
    "        return jsonify({\"error\": \"Login failed\"}), 401\n"
   ]
  }
 ],
 "metadata": {
  "kernelspec": {
   "display_name": "base",
   "language": "python",
   "name": "python3"
  },
  "language_info": {
   "codemirror_mode": {
    "name": "ipython",
    "version": 3
   },
   "file_extension": ".py",
   "mimetype": "text/x-python",
   "name": "python",
   "nbconvert_exporter": "python",
   "pygments_lexer": "ipython3",
   "version": "3.12.3"
  }
 },
 "nbformat": 4,
 "nbformat_minor": 2
}
